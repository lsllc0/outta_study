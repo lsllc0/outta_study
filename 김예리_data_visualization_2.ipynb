{
  "cells": [
    {
      "cell_type": "markdown",
      "id": "46c51ec9",
      "metadata": {
        "id": "46c51ec9"
      },
      "source": [
        "# seaborn"
      ]
    },
    {
      "cell_type": "markdown",
      "id": "879f41f3",
      "metadata": {
        "id": "879f41f3"
      },
      "source": [
        "seaborn이란?\n",
        "\n",
        "matplotlib을 기반으로 다양한 색상 테마와 통계용 도표 등의 기능을 추가한 시각화 패키지다.\n",
        "기본적인 시각화 기능은 matplotlib 패키지를, 통계 기능은 statsmodels 패키지를 기반으로 한다.\n",
        "아래의 링크에서 seaborn에 대해 더 자세히 찾아볼 수 있다.\n",
        "https://seaborn.pydata.org/index.html\n",
        "matplotlib과 비교했을때 여러 장점이 있다.\n",
        "\n",
        "- 시각적으로 더 보기 좋다.\n",
        "- 데이터를 다루는 라이브러리인 판다스의 데이터프레임 기능을 제공하기 때문에 CSV 파일 등의 전체 데이터 세트에서 데이터를 불러와서 그릴 수 있다.\n",
        "- 보다 많은 차트와 색 테마들을 지원한다.\n",
        "- 그래프를 보다 쉽게 그려준다.\n",
        "- 데이터의 패턴이나 형상을 그리는데 장점을 보인다.\n",
        "\n",
        "단점은 다음과 같다.\n",
        "\n",
        "- matplotlib와의 호환성 문제로 matplotlib에서 작동하는 함수들이 seaborn에서 작동하지 않는 경우가 간혹 있다."
      ]
    },
    {
      "cell_type": "markdown",
      "id": "c76fab41",
      "metadata": {
        "id": "c76fab41"
      },
      "source": [
        "# seaborn 설치 및 불러오기"
      ]
    },
    {
      "cell_type": "code",
      "execution_count": 1,
      "id": "65bd232c",
      "metadata": {
        "colab": {
          "base_uri": "https://localhost:8080/"
        },
        "id": "65bd232c",
        "outputId": "5569c9ed-3538-47de-f917-eef0830341c5"
      },
      "outputs": [
        {
          "output_type": "stream",
          "name": "stdout",
          "text": [
            "Requirement already satisfied: matplotlib in /usr/local/lib/python3.10/dist-packages (3.7.1)\n",
            "Collecting matplotlib\n",
            "  Downloading matplotlib-3.7.2-cp310-cp310-manylinux_2_17_x86_64.manylinux2014_x86_64.whl (11.6 MB)\n",
            "\u001b[2K     \u001b[90m━━━━━━━━━━━━━━━━━━━━━━━━━━━━━━━━━━━━━━━━\u001b[0m \u001b[32m11.6/11.6 MB\u001b[0m \u001b[31m68.5 MB/s\u001b[0m eta \u001b[36m0:00:00\u001b[0m\n",
            "\u001b[?25hRequirement already satisfied: numpy in /usr/local/lib/python3.10/dist-packages (1.22.4)\n",
            "Collecting numpy\n",
            "  Downloading numpy-1.25.0-cp310-cp310-manylinux_2_17_x86_64.manylinux2014_x86_64.whl (17.6 MB)\n",
            "\u001b[2K     \u001b[90m━━━━━━━━━━━━━━━━━━━━━━━━━━━━━━━━━━━━━━━━\u001b[0m \u001b[32m17.6/17.6 MB\u001b[0m \u001b[31m70.3 MB/s\u001b[0m eta \u001b[36m0:00:00\u001b[0m\n",
            "\u001b[?25hRequirement already satisfied: seaborn in /usr/local/lib/python3.10/dist-packages (0.12.2)\n",
            "Requirement already satisfied: contourpy>=1.0.1 in /usr/local/lib/python3.10/dist-packages (from matplotlib) (1.1.0)\n",
            "Requirement already satisfied: cycler>=0.10 in /usr/local/lib/python3.10/dist-packages (from matplotlib) (0.11.0)\n",
            "Requirement already satisfied: fonttools>=4.22.0 in /usr/local/lib/python3.10/dist-packages (from matplotlib) (4.40.0)\n",
            "Requirement already satisfied: kiwisolver>=1.0.1 in /usr/local/lib/python3.10/dist-packages (from matplotlib) (1.4.4)\n",
            "Requirement already satisfied: packaging>=20.0 in /usr/local/lib/python3.10/dist-packages (from matplotlib) (23.1)\n",
            "Requirement already satisfied: pillow>=6.2.0 in /usr/local/lib/python3.10/dist-packages (from matplotlib) (8.4.0)\n",
            "Collecting pyparsing<3.1,>=2.3.1 (from matplotlib)\n",
            "  Downloading pyparsing-3.0.9-py3-none-any.whl (98 kB)\n",
            "\u001b[2K     \u001b[90m━━━━━━━━━━━━━━━━━━━━━━━━━━━━━━━━━━━━━━━━\u001b[0m \u001b[32m98.3/98.3 kB\u001b[0m \u001b[31m10.8 MB/s\u001b[0m eta \u001b[36m0:00:00\u001b[0m\n",
            "\u001b[?25hRequirement already satisfied: python-dateutil>=2.7 in /usr/local/lib/python3.10/dist-packages (from matplotlib) (2.8.2)\n",
            "Requirement already satisfied: pandas>=0.25 in /usr/local/lib/python3.10/dist-packages (from seaborn) (1.5.3)\n",
            "Requirement already satisfied: pytz>=2020.1 in /usr/local/lib/python3.10/dist-packages (from pandas>=0.25->seaborn) (2022.7.1)\n",
            "Requirement already satisfied: six>=1.5 in /usr/local/lib/python3.10/dist-packages (from python-dateutil>=2.7->matplotlib) (1.16.0)\n",
            "Installing collected packages: pyparsing, numpy, matplotlib\n",
            "  Attempting uninstall: pyparsing\n",
            "    Found existing installation: pyparsing 3.1.0\n",
            "    Uninstalling pyparsing-3.1.0:\n",
            "      Successfully uninstalled pyparsing-3.1.0\n",
            "  Attempting uninstall: numpy\n",
            "    Found existing installation: numpy 1.22.4\n",
            "    Uninstalling numpy-1.22.4:\n",
            "      Successfully uninstalled numpy-1.22.4\n",
            "  Attempting uninstall: matplotlib\n",
            "    Found existing installation: matplotlib 3.7.1\n",
            "    Uninstalling matplotlib-3.7.1:\n",
            "      Successfully uninstalled matplotlib-3.7.1\n",
            "\u001b[31mERROR: pip's dependency resolver does not currently take into account all the packages that are installed. This behaviour is the source of the following dependency conflicts.\n",
            "numba 0.56.4 requires numpy<1.24,>=1.18, but you have numpy 1.25.0 which is incompatible.\n",
            "tensorflow 2.12.0 requires numpy<1.24,>=1.22, but you have numpy 1.25.0 which is incompatible.\u001b[0m\u001b[31m\n",
            "\u001b[0mSuccessfully installed matplotlib-3.7.2 numpy-1.25.0 pyparsing-3.0.9\n"
          ]
        }
      ],
      "source": [
        "!python -m pip install --upgrade matplotlib numpy seaborn\n",
        "# !pip install --upgrade matplotlib numpy seaborn"
      ]
    },
    {
      "cell_type": "code",
      "execution_count": 2,
      "id": "42c3e5ea",
      "metadata": {
        "colab": {
          "base_uri": "https://localhost:8080/"
        },
        "id": "42c3e5ea",
        "outputId": "eb6f8934-10f5-43dd-b1d3-950e7ff068bb"
      },
      "outputs": [
        {
          "output_type": "stream",
          "name": "stdout",
          "text": [
            "Matplotlib version... 3.7.2\n",
            "NumPy version........ 1.25.0\n",
            "Seaborn version........ 0.12.2\n"
          ]
        }
      ],
      "source": [
        "# 버전 확인하기\n",
        "import matplotlib, numpy, seaborn\n",
        "print('Matplotlib version...', matplotlib.__version__)\n",
        "print('NumPy version........', numpy.__version__)\n",
        "print('Seaborn version........', seaborn.__version__)"
      ]
    },
    {
      "cell_type": "code",
      "execution_count": 1,
      "id": "dd756cea",
      "metadata": {
        "id": "dd756cea"
      },
      "outputs": [],
      "source": [
        "import numpy as np\n",
        "import pandas as pd\n",
        "from matplotlib import pyplot as plt\n",
        "import seaborn as sns"
      ]
    },
    {
      "cell_type": "code",
      "execution_count": 3,
      "id": "fd81910a",
      "metadata": {
        "id": "fd81910a"
      },
      "outputs": [],
      "source": [
        "# for Jupyter notebook # 한글폰트 설치\n",
        "import platform\n",
        "\n",
        "from matplotlib import font_manager, rc\n",
        "plt.rcParams['axes.unicode_minus']= False\n",
        "\n",
        "if platform.system() == 'Darwin': # 맥os 사용자의 경우에\n",
        "    rc('font', family = 'AppleGothic')\n",
        "\n",
        "elif platform.system() == 'Windows': # 윈도우 사용자의 경우에\n",
        "    path = 'c:/Windows/Fonts/malgun.ttf'\n",
        "    font_name = font_manager.FontProperties(fname=path).get_name()\n",
        "    rc('font', family=font_name)"
      ]
    },
    {
      "cell_type": "markdown",
      "id": "5ae0cc10",
      "metadata": {
        "id": "5ae0cc10"
      },
      "source": [
        "# Seaborn 제공 함수"
      ]
    },
    {
      "cell_type": "markdown",
      "id": "e62919e7",
      "metadata": {
        "id": "e62919e7"
      },
      "source": [
        "seaborn에서 제공하는 그래프는 다음과 같다.\n",
        "\n",
        "- histplot():히스토그램\n",
        "- kdeplot():커널밀도추정함수 그래프\n",
        "- displot():분포도\n",
        "- rugplot():러그플롯\n",
        "- barplot():막대그래프\n",
        "- pointplot() : 포인트플롯\n",
        "- boxplot(): 박스플롯\n",
        "- violinplot():바이올린플롯\n",
        "- countplot():카운트플롯"
      ]
    },
    {
      "cell_type": "markdown",
      "id": "928442d8",
      "metadata": {
        "id": "928442d8"
      },
      "source": [
        "# 막대 그래프\n"
      ]
    },
    {
      "cell_type": "markdown",
      "id": "91ed50d2",
      "metadata": {
        "id": "91ed50d2"
      },
      "source": [
        "seaborn에서 막대 그래프는 수치형 값의 특정 집계(평균, 합계 등)를 동일한 너비의 여러 막대로 표시하고 각 막대 위에 오차 막대를 그려주는 그래프다.\n",
        "\n",
        "막대 그래프를 작성하려면 barplot 메소드를 주로 barplot(x=None, y=None, hue=None, data=None, order=None, estimator=<function mean at 0x10a2a03b0>, ci=95) 형식으로 사용하면 된다.\n",
        "\n",
        "- x, y 에는 데이터의 변수명을 입력한다.\n",
        "- hue 에도 데이터의 변수명을 입력하며 생성된 막대들을 입력한 변수의 범주에 따라 색으로 나눠준다.\n",
        "- data 는 입력하는 전체 데이터의 이름이다.\n",
        "- order는 입력한 범주형 변수의 범주들을 문자열의 리스트로 입력하여 각 범주가 그래프에 막대로 그려지는 순서를 설정한다.\n",
        "\n",
        "barplot 메소드로 출력하는 도표는 하나이므로 x축과 y축을 라벨링할 때 pyplot.xlabel 과 pyplot.ylabel 메소드를 호출하면 된다.\n",
        "\n",
        "범주별로 생성되는 막대들의 눈금에 라벨을 붙이려면 barplot 메소드가 반환하는 객체인 AxesSubplot을 새로운 변수로 할당하고 set_xticklabels 을 사용한다."
      ]
    },
    {
      "cell_type": "code",
      "source": [
        "!sudo apt-get install -y fonts-nanum\n",
        "!sudo fc-cache -fv\n",
        "!rm ~/.cache/matplotlib -rf\n",
        "\n",
        "plt.rcParams['font.family'] = 'NanumBarunGothic'"
      ],
      "metadata": {
        "colab": {
          "base_uri": "https://localhost:8080/"
        },
        "id": "ctpZZegy-jqW",
        "outputId": "e75d40de-ed10-4911-9929-cb4f02b6536e"
      },
      "execution_count": 4,
      "outputs": [
        {
          "output_type": "stream",
          "name": "stdout",
          "text": [
            "Reading package lists... Done\n",
            "Building dependency tree       \n",
            "Reading state information... Done\n",
            "fonts-nanum is already the newest version (20180306-3).\n",
            "0 upgraded, 0 newly installed, 0 to remove and 15 not upgraded.\n",
            "/usr/share/fonts: caching, new cache contents: 0 fonts, 1 dirs\n",
            "/usr/share/fonts/truetype: caching, new cache contents: 0 fonts, 3 dirs\n",
            "/usr/share/fonts/truetype/humor-sans: caching, new cache contents: 1 fonts, 0 dirs\n",
            "/usr/share/fonts/truetype/liberation: caching, new cache contents: 16 fonts, 0 dirs\n",
            "/usr/share/fonts/truetype/nanum: caching, new cache contents: 10 fonts, 0 dirs\n",
            "/usr/local/share/fonts: caching, new cache contents: 0 fonts, 0 dirs\n",
            "/root/.local/share/fonts: skipping, no such directory\n",
            "/root/.fonts: skipping, no such directory\n",
            "/usr/share/fonts/truetype: skipping, looped directory detected\n",
            "/usr/share/fonts/truetype/humor-sans: skipping, looped directory detected\n",
            "/usr/share/fonts/truetype/liberation: skipping, looped directory detected\n",
            "/usr/share/fonts/truetype/nanum: skipping, looped directory detected\n",
            "/var/cache/fontconfig: cleaning cache directory\n",
            "/root/.cache/fontconfig: not cleaning non-existent cache directory\n",
            "/root/.fontconfig: not cleaning non-existent cache directory\n",
            "fc-cache: succeeded\n"
          ]
        }
      ],
      "id": "ctpZZegy-jqW"
    },
    {
      "cell_type": "code",
      "execution_count": 5,
      "id": "32656593",
      "metadata": {
        "colab": {
          "base_uri": "https://localhost:8080/",
          "height": 449
        },
        "id": "32656593",
        "outputId": "727a98d5-0998-473d-cb9a-570f4a7a38ff"
      },
      "outputs": [
        {
          "output_type": "display_data",
          "data": {
            "text/plain": [
              "<Figure size 640x480 with 1 Axes>"
            ],
            "image/png": "[encoded data removed]"
          },
          "metadata": {}
        }
      ],
      "source": [
        "x = np.arange(3)\n",
        "y = [20, 30, 50]\n",
        "\n",
        "## type your code ##\n",
        "ax = sns.barplot(x=x,y=y)\n",
        "ax.set_xticklabels(['미국','일본','대한민국'])\n",
        "plt.xlabel('국가')\n",
        "plt.ylabel('count')\n",
        "plt.show()"
      ]
    },
    {
      "cell_type": "code",
      "execution_count": 6,
      "id": "8aa96b1e",
      "metadata": {
        "colab": {
          "base_uri": "https://localhost:8080/",
          "height": 206
        },
        "id": "8aa96b1e",
        "outputId": "ba7a0b4e-b4ba-46f9-f752-cd9cad8a86cd"
      },
      "outputs": [
        {
          "output_type": "execute_result",
          "data": {
            "text/plain": [
              "  page  gender  avg_age\n",
              "0    a    male       23\n",
              "1    b    male       34\n",
              "2    c    male       31\n",
              "3    d    male       40\n",
              "4    a  female       30"
            ],
            "text/html": [
              "\n",
              "  <div id=\"df-2994fb76-ae77-4012-ad02-9170be246aee\">\n",
              "    <div class=\"colab-df-container\">\n",
              "      <div>\n",
              "<style scoped>\n",
              "    .dataframe tbody tr th:only-of-type {\n",
              "        vertical-align: middle;\n",
              "    }\n",
              "\n",
              "    .dataframe tbody tr th {\n",
              "        vertical-align: top;\n",
              "    }\n",
              "\n",
              "    .dataframe thead th {\n",
              "        text-align: right;\n",
              "    }\n",
              "</style>\n",
              "<table border=\"1\" class=\"dataframe\">\n",
              "  <thead>\n",
              "    <tr style=\"text-align: right;\">\n",
              "      <th></th>\n",
              "      <th>page</th>\n",
              "      <th>gender</th>\n",
              "      <th>avg_age</th>\n",
              "    </tr>\n",
              "  </thead>\n",
              "  <tbody>\n",
              "    <tr>\n",
              "      <th>0</th>\n",
              "      <td>a</td>\n",
              "      <td>male</td>\n",
              "      <td>23</td>\n",
              "    </tr>\n",
              "    <tr>\n",
              "      <th>1</th>\n",
              "      <td>b</td>\n",
              "      <td>male</td>\n",
              "      <td>34</td>\n",
              "    </tr>\n",
              "    <tr>\n",
              "      <th>2</th>\n",
              "      <td>c</td>\n",
              "      <td>male</td>\n",
              "      <td>31</td>\n",
              "    </tr>\n",
              "    <tr>\n",
              "      <th>3</th>\n",
              "      <td>d</td>\n",
              "      <td>male</td>\n",
              "      <td>40</td>\n",
              "    </tr>\n",
              "    <tr>\n",
              "      <th>4</th>\n",
              "      <td>a</td>\n",
              "      <td>female</td>\n",
              "      <td>30</td>\n",
              "    </tr>\n",
              "  </tbody>\n",
              "</table>\n",
              "</div>\n",
              "      <button class=\"colab-df-convert\" onclick=\"convertToInteractive('df-2994fb76-ae77-4012-ad02-9170be246aee')\"\n",
              "              title=\"Convert this dataframe to an interactive table.\"\n",
              "              style=\"display:none;\">\n",
              "        \n",
              "  <svg xmlns=\"http://www.w3.org/2000/svg\" height=\"24px\"viewBox=\"0 0 24 24\"\n",
              "       width=\"24px\">\n",
              "    <path d=\"M0 0h24v24H0V0z\" fill=\"none\"/>\n",
              "    <path d=\"M18.56 5.44l.94 2.06.94-2.06 2.06-.94-2.06-.94-.94-2.06-.94 2.06-2.06.94zm-11 1L8.5 8.5l.94-2.06 2.06-.94-2.06-.94L8.5 2.5l-.94 2.06-2.06.94zm10 10l.94 2.06.94-2.06 2.06-.94-2.06-.94-.94-2.06-.94 2.06-2.06.94z\"/><path d=\"M17.41 7.96l-1.37-1.37c-.4-.4-.92-.59-1.43-.59-.52 0-1.04.2-1.43.59L10.3 9.45l-7.72 7.72c-.78.78-.78 2.05 0 2.83L4 21.41c.39.39.9.59 1.41.59.51 0 1.02-.2 1.41-.59l7.78-7.78 2.81-2.81c.8-.78.8-2.07 0-2.86zM5.41 20L4 18.59l7.72-7.72 1.47 1.35L5.41 20z\"/>\n",
              "  </svg>\n",
              "      </button>\n",
              "      \n",
              "  <style>\n",
              "    .colab-df-container {\n",
              "      display:flex;\n",
              "      flex-wrap:wrap;\n",
              "      gap: 12px;\n",
              "    }\n",
              "\n",
              "    .colab-df-convert {\n",
              "      background-color: #E8F0FE;\n",
              "      border: none;\n",
              "      border-radius: 50%;\n",
              "      cursor: pointer;\n",
              "      display: none;\n",
              "      fill: #1967D2;\n",
              "      height: 32px;\n",
              "      padding: 0 0 0 0;\n",
              "      width: 32px;\n",
              "    }\n",
              "\n",
              "    .colab-df-convert:hover {\n",
              "      background-color: #E2EBFA;\n",
              "      box-shadow: 0px 1px 2px rgba(60, 64, 67, 0.3), 0px 1px 3px 1px rgba(60, 64, 67, 0.15);\n",
              "      fill: #174EA6;\n",
              "    }\n",
              "\n",
              "    [theme=dark] .colab-df-convert {\n",
              "      background-color: #3B4455;\n",
              "      fill: #D2E3FC;\n",
              "    }\n",
              "\n",
              "    [theme=dark] .colab-df-convert:hover {\n",
              "      background-color: #434B5C;\n",
              "      box-shadow: 0px 1px 3px 1px rgba(0, 0, 0, 0.15);\n",
              "      filter: drop-shadow(0px 1px 2px rgba(0, 0, 0, 0.3));\n",
              "      fill: #FFFFFF;\n",
              "    }\n",
              "  </style>\n",
              "\n",
              "      <script>\n",
              "        const buttonEl =\n",
              "          document.querySelector('#df-2994fb76-ae77-4012-ad02-9170be246aee button.colab-df-convert');\n",
              "        buttonEl.style.display =\n",
              "          google.colab.kernel.accessAllowed ? 'block' : 'none';\n",
              "\n",
              "        async function convertToInteractive(key) {\n",
              "          const element = document.querySelector('#df-2994fb76-ae77-4012-ad02-9170be246aee');\n",
              "          const dataTable =\n",
              "            await google.colab.kernel.invokeFunction('convertToInteractive',\n",
              "                                                     [key], {});\n",
              "          if (!dataTable) return;\n",
              "\n",
              "          const docLinkHtml = 'Like what you see? Visit the ' +\n",
              "            '<a target=\"_blank\" href=https://colab.research.google.com/notebooks/data_table.ipynb>data table notebook</a>'\n",
              "            + ' to learn more about interactive tables.';\n",
              "          element.innerHTML = '';\n",
              "          dataTable['output_type'] = 'display_data';\n",
              "          await google.colab.output.renderOutput(dataTable, element);\n",
              "          const docLink = document.createElement('div');\n",
              "          docLink.innerHTML = docLinkHtml;\n",
              "          element.appendChild(docLink);\n",
              "        }\n",
              "      </script>\n",
              "    </div>\n",
              "  </div>\n",
              "  "
            ]
          },
          "metadata": {},
          "execution_count": 6
        }
      ],
      "source": [
        "# make datasets\n",
        "data = {\n",
        "    'page': ['a', 'b', 'c', 'd', 'a', 'b', 'c', 'd'],\n",
        "    'gender': ['male', 'male', 'male', 'male', 'female', 'female', 'female', 'female'],\n",
        "    'avg_age': [23, 34, 31, 40, 30, 40, 23, 42]\n",
        "}\n",
        "\n",
        "df = pd.DataFrame(data)\n",
        "df.head()"
      ]
    },
    {
      "cell_type": "code",
      "execution_count": 7,
      "id": "56bd4a69",
      "metadata": {
        "colab": {
          "base_uri": "https://localhost:8080/",
          "height": 471
        },
        "id": "56bd4a69",
        "outputId": "884cecdf-c442-4ccd-df57-cfb2360ef3ae"
      },
      "outputs": [
        {
          "output_type": "display_data",
          "data": {
            "text/plain": [
              "<Figure size 640x480 with 1 Axes>"
            ],
            "image/png": "[encoded data removed]"
          },
          "metadata": {}
        }
      ],
      "source": [
        "## type your code ##\n",
        "sns.barplot(data=df, x ='page', y='avg_age', hue ='gender')\n",
        "\n",
        "plt.title('페이지별 남성, 여성 평균 연령대')\n",
        "plt.xlabel('페이지')\n",
        "plt.ylabel('평균 연령대')\n",
        "\n",
        "plt.show()"
      ]
    },
    {
      "cell_type": "markdown",
      "id": "5d38ae98",
      "metadata": {
        "id": "5d38ae98"
      },
      "source": [
        "## 연습문제 1-1\n",
        "\n",
        "우리가 사용할 dataset은 seaborn에서 제공하는 diamonds dataset이다. diamonds dataset에서 우리는 다이아몬드가 얼마나 clear한지(clarity), 그리고 다이아몬드의 퀄리티는 어떠한지(cut)에 따른 평균 가격(price)의 분포가 궁금하여 막대 그래프를 그리고자 한다. 아래의 과정에 따라 diamonds dataset에서 막대 그래프를 그려보자.\n",
        "\n",
        "조건은 다음과 같다.\n",
        "- title은 \"clarity, cut에 따른 mean price\"이다.\n",
        "- x축 라벨은 \"clarity\"이다.\n",
        "- y축 라벨은 \"평균 가격\"이다."
      ]
    },
    {
      "cell_type": "code",
      "execution_count": null,
      "id": "63dcfd8e",
      "metadata": {
        "id": "63dcfd8e"
      },
      "outputs": [],
      "source": [
        "# loading dataset\n",
        "# 결과로 출력되는 5개의 행은 diamonds dataset에서 상위 5개 데이터를 추출한 것이다.\n",
        "# 이를 통해 diamonds dataset이 어떻게 구성되어 있는지 알 수 있다.\n",
        "# 우리가 관심있는 column은 clarity, cut, price이다.\n",
        "diamonds = sns.load_dataset('diamonds')\n",
        "diamonds.head()"
      ]
    },
    {
      "cell_type": "code",
      "execution_count": null,
      "id": "11d75fc7",
      "metadata": {
        "scrolled": true,
        "id": "11d75fc7"
      },
      "outputs": [],
      "source": [
        "# diamonds dataset에서 clarity, cut에 따른 평균 가격을 groupby를 이용하여 계산한다.\n",
        "group_diamonds = diamonds.groupby(['clarity', 'cut']).mean()[['price']]\n",
        "group_diamonds.reset_index(level=1, inplace=True)\n",
        "group_diamonds.reset_index(level=0, inplace=True)\n",
        "\n",
        "group_diamonds"
      ]
    },
    {
      "cell_type": "code",
      "execution_count": null,
      "id": "5c85c2c7",
      "metadata": {
        "id": "5c85c2c7"
      },
      "outputs": [],
      "source": [
        "## type your code ##\n",
        "plt.title(# type #) # 타이틀 입력\n",
        "plt.xlabel(# type #) # x label 입력\n",
        "plt.ylabel(# type #) # y label 입력\n",
        "\n",
        "# bar plot 그리기 #\n",
        "\n",
        "plt.show();"
      ]
    },
    {
      "cell_type": "markdown",
      "id": "ccf3d092",
      "metadata": {
        "id": "ccf3d092"
      },
      "source": [
        "# 카운트 플롯 (Countplot)\n",
        "\n",
        "카운트 플롯은 각 범주별로 데이터가 얼마나 있는지 나타낼 수 있다.\n",
        "\n",
        "카운트 플롯을 작성하려면 countplot 메소드를 주로 countplot(x=None, y=None, hue=None, data=None, color=None, palette=None) 형식으로 사용하면 된다.\n",
        "\n",
        "- x, y, hue 는 데이터의 열 이름(변수명) 문자열이다.\n",
        "    - x 와 y 는 동시에 입력할 수 없다.\n",
        "    - x 만 입력하면 세로로 막대가 그려지고 y 만 입력하면 가로로 막대가 그려진다.\n",
        "    - hue 를 같이 사용하면 범례가 생성되며 다른 범주와 함께 비교할 수 있다.\n",
        "- data 는 입력하는 전체 데이터 값이다.\n",
        "- color 는 막대의 색상을 설정한다.\n",
        "- palette 는 color를 지정하지 않았을 때 자동으로 칠하는 색상 순서를 설정한다. 기본값으로는 파랑, 주황, 초록, 빨강 등의 순서로 칠해지는데 ‘Set3’ 등으로 설정할 수 있다."
      ]
    },
    {
      "cell_type": "code",
      "execution_count": 8,
      "id": "176b168c",
      "metadata": {
        "colab": {
          "base_uri": "https://localhost:8080/",
          "height": 471
        },
        "id": "176b168c",
        "outputId": "a01e1b7f-836e-4498-f0f9-8d2563661142"
      },
      "outputs": [
        {
          "output_type": "display_data",
          "data": {
            "text/plain": [
              "<Figure size 640x480 with 1 Axes>"
            ],
            "image/png": "[encoded data removed]"
          },
          "metadata": {}
        }
      ],
      "source": [
        "df = sns.load_dataset(\"titanic\")\n",
        "\n",
        "## type your code ##\n",
        "sns.countplot(data =df, x='class', hue='sex')\n",
        "\n",
        "plt.title('좌석 class별, 성별 탑승객 수')\n",
        "plt.xlabel('탑승객 수')\n",
        "plt.ylabel('좌석 등급')\n",
        "\n",
        "plt.show()"
      ]
    },
    {
      "cell_type": "markdown",
      "id": "8b8ecfee",
      "metadata": {
        "id": "8b8ecfee"
      },
      "source": [
        "## 연습문제 1-2\n",
        "\n",
        "우리가 사용할 dataset은 seaborn에서 제공하는 diamonds dataset이다. diamonds dataset에서 우리는 다이아몬드의 색상(color)별 다이아몬드의 수 분포가 궁금하여 카운트 플롯을 그리고자 한다. 아래의 과정에 따라 diamonds dataset에서 카운트 플롯을 그려보자.\n",
        "\n",
        "조건은 다음과 같다.\n",
        "- title은 \"색상별 다이아몬드 수\"이다.\n",
        "- x축 라벨은 \"color\"이다.\n"
      ]
    },
    {
      "cell_type": "code",
      "execution_count": null,
      "id": "a851cc45",
      "metadata": {
        "id": "a851cc45"
      },
      "outputs": [],
      "source": [
        "# loading dataset\n",
        "diamonds = sns.load_dataset('diamonds')\n",
        "diamonds.head()"
      ]
    },
    {
      "cell_type": "code",
      "execution_count": null,
      "id": "ae2dd1e1",
      "metadata": {
        "id": "ae2dd1e1"
      },
      "outputs": [],
      "source": [
        "## type your code ##\n",
        "plt.title(# type #) # 타이틀 입력\n",
        "plt.xlabel(# type #) # x label 입력\n",
        "\n",
        "# count plot 그리기 #\n",
        "\n",
        "plt.show();"
      ]
    },
    {
      "cell_type": "markdown",
      "id": "e3929472",
      "metadata": {
        "id": "e3929472"
      },
      "source": [
        "# 러그 플롯 (rugplot)\n",
        "\n",
        "러그 플롯은 데이터 위치를 x축 위에 작은 막대로 나타내어 실제 데이터들의 분포를 시각화한다.\n",
        "\n",
        "러그 플롯을 작성하려면 rugplot 메소드를 주로 rugplot(a, height=0.05, axis=’x’) 형식으로 사용하면 된다.\n",
        "\n",
        "- a 는 입력하는 데이터 값이다. 1차원 배열(1D Arrary) 형태를 가진다.\n",
        "- height 는 막대의 길이를,\n",
        "- axis 는 러그 플롯을 그리는 축을 설정한다. ‘x’ 와 ‘y’ 중 하나를 받으며 기본값은 ‘x’ 로 x축에 러그 플롯을 그린다."
      ]
    },
    {
      "cell_type": "code",
      "execution_count": 9,
      "id": "e4df98ef",
      "metadata": {
        "colab": {
          "base_uri": "https://localhost:8080/",
          "height": 206
        },
        "id": "e4df98ef",
        "outputId": "72109b0e-1b89-42cb-f4ed-b30a08e9975d"
      },
      "outputs": [
        {
          "output_type": "execute_result",
          "data": {
            "text/plain": [
              "    a   b   c\n",
              "0  85  31  23\n",
              "1  81  41  92\n",
              "2  98  66  77\n",
              "3  23  87  30\n",
              "4  17  80  75"
            ],
            "text/html": [
              "\n",
              "  <div id=\"df-8723ac78-a5de-49a2-855f-1c776ac0aebe\">\n",
              "    <div class=\"colab-df-container\">\n",
              "      <div>\n",
              "<style scoped>\n",
              "    .dataframe tbody tr th:only-of-type {\n",
              "        vertical-align: middle;\n",
              "    }\n",
              "\n",
              "    .dataframe tbody tr th {\n",
              "        vertical-align: top;\n",
              "    }\n",
              "\n",
              "    .dataframe thead th {\n",
              "        text-align: right;\n",
              "    }\n",
              "</style>\n",
              "<table border=\"1\" class=\"dataframe\">\n",
              "  <thead>\n",
              "    <tr style=\"text-align: right;\">\n",
              "      <th></th>\n",
              "      <th>a</th>\n",
              "      <th>b</th>\n",
              "      <th>c</th>\n",
              "    </tr>\n",
              "  </thead>\n",
              "  <tbody>\n",
              "    <tr>\n",
              "      <th>0</th>\n",
              "      <td>85</td>\n",
              "      <td>31</td>\n",
              "      <td>23</td>\n",
              "    </tr>\n",
              "    <tr>\n",
              "      <th>1</th>\n",
              "      <td>81</td>\n",
              "      <td>41</td>\n",
              "      <td>92</td>\n",
              "    </tr>\n",
              "    <tr>\n",
              "      <th>2</th>\n",
              "      <td>98</td>\n",
              "      <td>66</td>\n",
              "      <td>77</td>\n",
              "    </tr>\n",
              "    <tr>\n",
              "      <th>3</th>\n",
              "      <td>23</td>\n",
              "      <td>87</td>\n",
              "      <td>30</td>\n",
              "    </tr>\n",
              "    <tr>\n",
              "      <th>4</th>\n",
              "      <td>17</td>\n",
              "      <td>80</td>\n",
              "      <td>75</td>\n",
              "    </tr>\n",
              "  </tbody>\n",
              "</table>\n",
              "</div>\n",
              "      <button class=\"colab-df-convert\" onclick=\"convertToInteractive('df-8723ac78-a5de-49a2-855f-1c776ac0aebe')\"\n",
              "              title=\"Convert this dataframe to an interactive table.\"\n",
              "              style=\"display:none;\">\n",
              "        \n",
              "  <svg xmlns=\"http://www.w3.org/2000/svg\" height=\"24px\"viewBox=\"0 0 24 24\"\n",
              "       width=\"24px\">\n",
              "    <path d=\"M0 0h24v24H0V0z\" fill=\"none\"/>\n",
              "    <path d=\"M18.56 5.44l.94 2.06.94-2.06 2.06-.94-2.06-.94-.94-2.06-.94 2.06-2.06.94zm-11 1L8.5 8.5l.94-2.06 2.06-.94-2.06-.94L8.5 2.5l-.94 2.06-2.06.94zm10 10l.94 2.06.94-2.06 2.06-.94-2.06-.94-.94-2.06-.94 2.06-2.06.94z\"/><path d=\"M17.41 7.96l-1.37-1.37c-.4-.4-.92-.59-1.43-.59-.52 0-1.04.2-1.43.59L10.3 9.45l-7.72 7.72c-.78.78-.78 2.05 0 2.83L4 21.41c.39.39.9.59 1.41.59.51 0 1.02-.2 1.41-.59l7.78-7.78 2.81-2.81c.8-.78.8-2.07 0-2.86zM5.41 20L4 18.59l7.72-7.72 1.47 1.35L5.41 20z\"/>\n",
              "  </svg>\n",
              "      </button>\n",
              "      \n",
              "  <style>\n",
              "    .colab-df-container {\n",
              "      display:flex;\n",
              "      flex-wrap:wrap;\n",
              "      gap: 12px;\n",
              "    }\n",
              "\n",
              "    .colab-df-convert {\n",
              "      background-color: #E8F0FE;\n",
              "      border: none;\n",
              "      border-radius: 50%;\n",
              "      cursor: pointer;\n",
              "      display: none;\n",
              "      fill: #1967D2;\n",
              "      height: 32px;\n",
              "      padding: 0 0 0 0;\n",
              "      width: 32px;\n",
              "    }\n",
              "\n",
              "    .colab-df-convert:hover {\n",
              "      background-color: #E2EBFA;\n",
              "      box-shadow: 0px 1px 2px rgba(60, 64, 67, 0.3), 0px 1px 3px 1px rgba(60, 64, 67, 0.15);\n",
              "      fill: #174EA6;\n",
              "    }\n",
              "\n",
              "    [theme=dark] .colab-df-convert {\n",
              "      background-color: #3B4455;\n",
              "      fill: #D2E3FC;\n",
              "    }\n",
              "\n",
              "    [theme=dark] .colab-df-convert:hover {\n",
              "      background-color: #434B5C;\n",
              "      box-shadow: 0px 1px 3px 1px rgba(0, 0, 0, 0.15);\n",
              "      filter: drop-shadow(0px 1px 2px rgba(0, 0, 0, 0.3));\n",
              "      fill: #FFFFFF;\n",
              "    }\n",
              "  </style>\n",
              "\n",
              "      <script>\n",
              "        const buttonEl =\n",
              "          document.querySelector('#df-8723ac78-a5de-49a2-855f-1c776ac0aebe button.colab-df-convert');\n",
              "        buttonEl.style.display =\n",
              "          google.colab.kernel.accessAllowed ? 'block' : 'none';\n",
              "\n",
              "        async function convertToInteractive(key) {\n",
              "          const element = document.querySelector('#df-8723ac78-a5de-49a2-855f-1c776ac0aebe');\n",
              "          const dataTable =\n",
              "            await google.colab.kernel.invokeFunction('convertToInteractive',\n",
              "                                                     [key], {});\n",
              "          if (!dataTable) return;\n",
              "\n",
              "          const docLinkHtml = 'Like what you see? Visit the ' +\n",
              "            '<a target=\"_blank\" href=https://colab.research.google.com/notebooks/data_table.ipynb>data table notebook</a>'\n",
              "            + ' to learn more about interactive tables.';\n",
              "          element.innerHTML = '';\n",
              "          dataTable['output_type'] = 'display_data';\n",
              "          await google.colab.output.renderOutput(dataTable, element);\n",
              "          const docLink = document.createElement('div');\n",
              "          docLink.innerHTML = docLinkHtml;\n",
              "          element.appendChild(docLink);\n",
              "        }\n",
              "      </script>\n",
              "    </div>\n",
              "  </div>\n",
              "  "
            ]
          },
          "metadata": {},
          "execution_count": 9
        }
      ],
      "source": [
        "# random dataset 생성\n",
        "df = pd.DataFrame(np.random.choice(100, (100, 3)), columns=['a', 'b', 'c'])\n",
        "df.head()"
      ]
    },
    {
      "cell_type": "code",
      "execution_count": 10,
      "id": "48a28687",
      "metadata": {
        "colab": {
          "base_uri": "https://localhost:8080/",
          "height": 471
        },
        "id": "48a28687",
        "outputId": "62ae9ea8-b476-43fc-a867-e949bf82e121"
      },
      "outputs": [
        {
          "output_type": "display_data",
          "data": {
            "text/plain": [
              "<Figure size 640x480 with 1 Axes>"
            ],
            "image/png": "[encoded data removed]"
          },
          "metadata": {}
        }
      ],
      "source": [
        "## type your code ##\n",
        "sns.rugplot(df['a'], height =0.6)\n",
        "\n",
        "plt.title('rugplot')\n",
        "plt.xlabel('column a')\n",
        "plt.show()"
      ]
    },
    {
      "cell_type": "markdown",
      "id": "74c6e695",
      "metadata": {
        "id": "74c6e695"
      },
      "source": [
        "# 커널 밀도 플롯 (kdeplot)\n",
        "커널(kernel)이라는 함수를 겹치는 방법으로 히스토그램보다 부드러운 형태의 분포 곡선을 시각화한다.\n",
        "\n",
        "히스토그램은 데이터의 밀도를 간단한 형태로 표현해주는 그래프로서 모양이 막대(bin)의 시작점과 폭에 의존하며 추정한 밀도가 불연속적이라 매끄럽지 못한 경우가 있다. 커널 밀도 플롯은 커널 함수를 사용하여 이런 단점들을 완화한다.\n",
        "\n",
        "커널 함수란 확률 분포를 나타내기에 적합한 함수로서 원점을 중심으로 대칭이고, 적분이 1인 양의 함수를 뜻한다.\n",
        "\n",
        "- 커널 함수에는 가우시안(Gaussian), 코사인(Cosine), Epanechnikov, uniform 등이 있는데, seaborn에서는 기본값으로 가우시안 커널 함수를 사용한다.\n",
        "\n",
        "커널 밀도 플롯을 작성하려면 kdeplot 메소드를 주로 kdeplot(data, data2=None, shade=False, vertical=False, kernel=’gau’) 형식으로 사용하면 된다.\n",
        "\n",
        "- data 는 입력하는 데이터 값이다. 1차원 배열(1D Arrary) 형태를 가진다.\n",
        "- data2 도 입력하는 데이터 값이다. 1차원 배열(1D Arrary) 형태를 가지는데 두 개 변수를 가지는 커널 밀도 플롯을 그릴 때 설정한다.\n",
        "- shade 는 bool 자료형을 입력하여 곡선 아래의 공간을 음영 처리할지 설정하며, 기본값은 False로 음영 처리를 하지 않는다.\n",
        "- vertical 은 bool 자료형을 입력하여 커널 밀도를 표현하는 축을 설정한다. 기본값은 False로 y축에 커널 밀도를 표현한다.\n",
        "- kernel 은 그려지는 커널 밀도의 형태를 설정한다. {‘gau’ | ‘cos’ | ‘biw’ | ‘epa’ | ‘tri’ | ‘triw’ } 중 하나를 선택하며 기본값은 ‘gau’ 다.\n"
      ]
    },
    {
      "cell_type": "code",
      "execution_count": 15,
      "id": "c27b20f9",
      "metadata": {
        "colab": {
          "base_uri": "https://localhost:8080/",
          "height": 691
        },
        "id": "c27b20f9",
        "outputId": "73c47edc-fa0a-4ab4-d432-464e64a242d5"
      },
      "outputs": [
        {
          "output_type": "stream",
          "name": "stderr",
          "text": [
            "<ipython-input-15-ac24b62a7dc4>:2: UserWarning: \n",
            "\n",
            "Support for alternate kernels has been removed; using Gaussian kernel.\n",
            "This will become an error in seaborn v0.13.0; please update your code.\n",
            "\n",
            "  sns.kdeplot(df['a'],shade=True, kernel ='triw')\n",
            "<ipython-input-15-ac24b62a7dc4>:2: FutureWarning: \n",
            "\n",
            "`shade` is now deprecated in favor of `fill`; setting `fill=True`.\n",
            "This will become an error in seaborn v0.14.0; please update your code.\n",
            "\n",
            "  sns.kdeplot(df['a'],shade=True, kernel ='triw')\n"
          ]
        },
        {
          "output_type": "display_data",
          "data": {
            "text/plain": [
              "<Figure size 640x480 with 1 Axes>"
            ],
            "image/png": "[encoded data removed]"
          },
          "metadata": {}
        }
      ],
      "source": [
        "## type your code ##\n",
        "sns.kdeplot(df['a'],shade=True, kernel ='triw')\n",
        "plt.title('kdeplot -> one variable')\n",
        "plt.xlabel('column a')\n",
        "plt.show()"
      ]
    },
    {
      "cell_type": "code",
      "execution_count": null,
      "id": "ec27c704",
      "metadata": {
        "id": "ec27c704"
      },
      "outputs": [],
      "source": [
        "## type your code ##\n",
        "\n",
        "plt.show()"
      ]
    },
    {
      "cell_type": "markdown",
      "id": "fc177ce0",
      "metadata": {
        "id": "fc177ce0"
      },
      "source": [
        "# 히스토그램 (histogram)\n",
        "히스토그램은 도수분포표를 시각적으로 표현한 막대 그래프다. 즉, 특정 구간에 속하는 자료의 개수를 나타내는 빈도표(frequency table)인 도수분포표를 시각화한 도형으로 비교할 양이나 수치에 대한 구간별 빈도수를 막대 모양의 도형으로 나타낸 그래프다.\n",
        "\n",
        "히스토그램을 작성하려면 distplot 메소드를 주로 distplot(a, bins=None, hist=True, kde=True, rug=False) 형식으로 사용하면 된다.\n",
        "\n",
        "- a 는 입력하는 데이터 값이다. 1차원 배열(1D Array), 리스트(list), 또는 시리즈(series)형태를 가진다.\n",
        "- bins 는 구간 수, 즉 도형에 들어갈 막대의 개수다. 설정하지 않으면 유용한 결과를 가지도록 자동으로 설정된다.\n",
        "- hist 에는 bool 자료형을 입력하여 히스토그램을 그릴지 설정한다. 기본값은 True로 히스토그램을 그린다.\n",
        "- kde 에는 bool 자료형을 입력하여 커널 밀도 플롯을 그릴지 여부를 설정한다. 기본값은 True로 커널 밀도 플롯으로 그린다.\n",
        "- rug 에는 bool 자료형을 입력하여 러그 플롯으로 그릴지 여부를 설정한다. 기본값은 False로 러그 플롯으로 그리지 않는다."
      ]
    },
    {
      "cell_type": "code",
      "execution_count": null,
      "id": "5c5d4635",
      "metadata": {
        "id": "5c5d4635"
      },
      "outputs": [],
      "source": [
        "## type your code ##\n",
        "\n",
        "plt.show()"
      ]
    },
    {
      "cell_type": "markdown",
      "id": "67bb6759",
      "metadata": {
        "id": "67bb6759"
      },
      "source": [
        "## 연습문제 2-1\n",
        "\n",
        "우리가 사용할 dataset은 seaborn에서 제공하는 mpg dataset이다. mpg dataset에서 우리는 연비(mpg)의 전반적인 분포가 궁금하여 러그 플롯을 그리고자 한다. 아래의 과정에 따라 mpg dataset에서 카운트 플롯을 그려보자.\n",
        "\n",
        "조건은 다음과 같다.\n",
        "- title은 \"연비의 분포\"이다.\n",
        "- x축 라벨은 \"mpg\"이다.\n",
        "- rugplot의 height는 0.7로 설정한다."
      ]
    },
    {
      "cell_type": "code",
      "execution_count": null,
      "id": "dd485e90",
      "metadata": {
        "id": "dd485e90"
      },
      "outputs": [],
      "source": [
        "# loading dataset\n",
        "# 결과로 출력되는 5개의 행은 mpg dataset에서 상위 5개 데이터를 추출한 것이다.\n",
        "# 이를 통해 mpg dataset이 어떻게 구성되어 있는지 알 수 있다.\n",
        "# 우리가 관심있는 column은 mpg이다.\n",
        "mpg = sns.load_dataset('mpg')\n",
        "mpg.head()"
      ]
    },
    {
      "cell_type": "code",
      "execution_count": null,
      "id": "e05fe0d9",
      "metadata": {
        "id": "e05fe0d9"
      },
      "outputs": [],
      "source": [
        "## type your code ##\n",
        "plt.title(# type #) # 타이틀 입력\n",
        "plt.xlabel(# type #) # x label 입력\n",
        "\n",
        "# rug plot 그리기 #\n",
        "\n",
        "plt.show();"
      ]
    },
    {
      "cell_type": "markdown",
      "id": "0b77de0d",
      "metadata": {
        "id": "0b77de0d"
      },
      "source": [
        "## 연습문제 2-2\n",
        "\n",
        "이번에 사용할 dataset 역시 seaborn에서 제공하는 mpg dataset이다. mpg dataset에서 우리는 배기량(displacement)과 출력(horsepower)에 따른 전반적인 분포가 궁금하여 kdeplot을 그리고자 한다. 아래의 과정에 따라 mpg dataset에서 kdeplot을 그려보자.\n",
        "\n",
        "조건은 다음과 같다.\n",
        "- title은 \"배기량과 출력에 따른 kdeplot\"이다.\n",
        "- x축에 배기량(displacement), y축에 출력(horsepower)를 둔다.\n",
        "- kdeplot에서 shade를 True로 설정한다."
      ]
    },
    {
      "cell_type": "code",
      "execution_count": null,
      "id": "558cad24",
      "metadata": {
        "id": "558cad24"
      },
      "outputs": [],
      "source": [
        "# loading dataset\n",
        "mpg = sns.load_dataset('mpg')\n",
        "\n",
        "## type your code ##\n",
        "plt.title(# type #) # title 설정\n",
        "\n",
        "# kde plot 그리기 #\n",
        "\n",
        "plt.show();"
      ]
    },
    {
      "cell_type": "markdown",
      "id": "954d3b3e",
      "metadata": {
        "id": "954d3b3e"
      },
      "source": [
        "## 연습문제 2-3\n",
        "\n",
        "이번에 사용할 dataset 역시 seaborn에서 제공하는 mpg dataset이다. mpg dataset에서 우리는 가속능력(acceleration)에 따른 분포가 궁금하여 distplot을 그리고자 한다. 아래의 과정에 따라 mpg dataset에서 distplot을 그려보자.\n",
        "\n",
        "조건은 다음과 같다.\n",
        "- title은 \"가속능력에 따른 distplot\"이다.\n",
        "- distplot에서 bins는 10로 두고, 커널 밀도 플롯과 러그 플롯을 모두 시각화한다."
      ]
    },
    {
      "cell_type": "code",
      "execution_count": null,
      "id": "9f6d191f",
      "metadata": {
        "id": "9f6d191f"
      },
      "outputs": [],
      "source": [
        "# loading dataset\n",
        "mpg = sns.load_dataset('mpg')\n",
        "\n",
        "## type your code ##\n",
        "plt.title(# type #) # title 설정\n",
        "\n",
        "# dist plot 그리기 #\n",
        "\n",
        "plt.show();"
      ]
    },
    {
      "cell_type": "markdown",
      "id": "da3fc349",
      "metadata": {
        "id": "da3fc349"
      },
      "source": [
        "# 박스 그래프\n",
        "박스 그래프는 데이터의 분포를 시각적으로 표현한 박스 모양의 그래프다. 데이터의 범위, 중앙값과 이상치를 빠르게 확인할 수 있는 장점이 있다.\n",
        "\n",
        "박스 그래프의 기본 통계량 설명\n",
        "- 박스 그래프는 데이터에서 사분위수를 계산하고 제 1 사분위(Q1)와 제 3 사분위(Q3)를 밑변으로 하는 박스를 그린다.\n",
        "- 제 3 사분위 수 Q3은 전체 자료의 중앙값을 기준으로 봤을때 중앙값보다 큰 값들의 중앙값으로 누적 백분율이 25% 에 해당하는 값이다\n",
        "- 제 1 사분위 수 Q1은 전체 자료의 중앙값을 기준으로 봤을때 중앙값보다 작은 값들의 중앙값으로 누적 백분율이 75% 에 해당하는 값이다.\n",
        "- 중앙값의 좌우로부터 동일한 백분율을 가진 두 점간의 거리를 계산하기 위해서 제 3 사분위수에서 제 1 사분위수를 빼서 사분위수 범위 IQR(interquartile range)를 계산한다. Q1 - 1.5 * IQR 보다 작거나 Q3 + 1.5 * IQR 보다 큰 값은 이상치이다.\n",
        "- 박스 그래프 바깥의 선은 이상치를 제외한 최댓값과 최솟값을 의미한다.\n",
        "\n",
        "박스 그래프를 작성하려면 boxplot 메소드를 주로 boxplot(x=None, y=None, hue=None, data=None, order=None, orient=None, fliersize=5) 형식으로 사용하면 된다.\n",
        "\n",
        "- x, y 에는 데이터의 변수명을 입력한다. x 와 y 중 수치형 데이터 값이 적어도 하나는 들어가야 박스 그래프가 생성된다. 범주형 데이터 값을 가지는 변수명과 수치형 데이터 값을 가지는 변수명을 사용하면 범주별로 박스 그래프가 생성된다.\n",
        "- hue 에는 데이터의 변수명이 입력하며 생성한 박스들은 입력한 변수의 범주에 따라 색으로 나눠준다.\n",
        "- data 는 입력하는 전체 데이터의 이름이다. x, y 를 입력하지 않고 data 만 입력하면 전체 데이터를 옆으로 긴 데이터프레임(long-form dataframe)으로 인식하여 수치형 변수들에 대해서만 박스 그래프를 작성한다.\n",
        "- order 에는 문자열의 리스트를 입력하여 각 범주값이 그래프에 박스로 그려지는 순서를 설정한다.\n",
        "- orient 는 ‘v’ 또는 ‘h’ 를 입력해 박스가 그려지는 방향을 vertical(세로) 또는 horizontal(가로)로 설정한다. 기본값은 None으로 x와 y 중 수치형 데이터를 입력한 축의 방향으로 그려진다. 즉 y축에 수치형 데이터 값을 가지는 변수명을 입력하면 박스 그래프는 세로로 그린다. 수치형 변수들에 대해서만 박스 그래프를 작성할 때 사용한다.\n",
        "- fliersize 는 데이터의 이상치를 표시하는 마커의 사이즈를 설정한다."
      ]
    },
    {
      "cell_type": "code",
      "execution_count": null,
      "id": "f607a406",
      "metadata": {
        "id": "f607a406"
      },
      "outputs": [],
      "source": [
        "# make datasets\n",
        "label_list1 = ['A', 'B', 'C', 'D']\n",
        "label_list2 = ['X', 'Y', 'Z']\n",
        "\n",
        "array = [[label_list1[i//25]] + [label_list2[i%3]] + list(np.random.choice(100, 3)) for i in range(100)]\n",
        "\n",
        "df = pd.DataFrame(array, columns=['label1', 'label2', 'a', 'b', 'c'])\n",
        "df.head()"
      ]
    },
    {
      "cell_type": "code",
      "execution_count": null,
      "id": "5212e220",
      "metadata": {
        "id": "5212e220"
      },
      "outputs": [],
      "source": [
        "## type your code ##\n",
        "\n",
        "plt.show()"
      ]
    },
    {
      "cell_type": "code",
      "execution_count": null,
      "id": "31b3f2ab",
      "metadata": {
        "id": "31b3f2ab"
      },
      "outputs": [],
      "source": [
        "## type your code ##\n",
        "\n",
        "plt.show()"
      ]
    },
    {
      "cell_type": "markdown",
      "id": "aa7dfc80",
      "metadata": {
        "id": "aa7dfc80"
      },
      "source": [
        "# 바이올린 플롯\n",
        "바이올린 플롯은 박스 그래프를 그리고 그 위에 커널 밀도 플롯을 좌우 대칭으로 그려 데이터의 분포를 표현하는 그래프이다.\n",
        "\n",
        "바이올린 플롯을 작성하려면 violinplot 메소드를 주로 violinplot(x=None, y=None, hue=None, data=None, order=None, scale=’area’, inner=’box', orient=None) 형식으로 사용하면 된다.\n",
        "\n",
        "- x, y 에는 데이터의 변수명을 입력한다. x 와 y 중 수치형 데이터 값이 적어도 하나는 들어가야 바이올린 플롯이 생성된다. 범주형 데이터 값을 가지는 변수명과 수치형 데이터 값을 가지는 변수명을 사용하면 범주별로 바이올린 플롯이 생성된다.\n",
        "- hue 에는 데이터의 변수명을 입력하며 생성한 바이올린 도형들을 입력한 변수의 범주에 따라 색으로 나눠준다.\n",
        "- data 는 입력하는 전체 데이터의 이름이다. x, y 를 입력하지 않고 data만 입력하면 전체 데이터를 옆으로 긴 데이터프레임(long-form dataframe)으로 인식하여 수치형 변수들에 대해서만 바이올린 플롯을 작성한다.\n",
        "- order 에는 문자열의 리스트를 입력하여 각 범주값이 그래프에 바이올린 도형으로 그려지는 순서를 설정한다.\n",
        "- scale은 각 바이올린 도형의 너비를 조정하는 방법이다. {‘area’ | ‘count’ | ‘width’} 중 하나를 선택하여 기본값은 ‘area’ 로 바이올린 도형의 면적(area)이 같도록 한다. ‘count’ 를 입력하면 바이올린 도형의 너비는 데이터 개수에 따라 조정된다. ‘width’ 를 입력하면 모든 바이올린 도형은 같은 너비를 가지게 된다.\n",
        "- inner 는 각 바이올린 도형 내부에 그릴 그래프나 도형을 선택한다. {‘box’ | ‘quartile’ | ‘point’ | ‘stick’ | None}’ 중 하나를 선택하며 기본값은 ‘box’ 로 작은 박스 그래프를 그린다. ‘quartile’ 은 사분위 값을 바이올린 도형안에 점선으로 표시한다. ‘point’ 와 ‘stick’ 는 데이터 포인트를 각각 점과 선으로 표시한다.\n",
        "- orient는 ‘v’ 또는 ‘h’ 를 입력 받아 바이올린 플롯이 그려지는 방향을 vertical(세로) 또는 horizontal(가로)로 설정한다. 기본값은 None으로 x와 y 중 수치형 데이터를 입력한 축의 방향으로 그린다. 즉 y축에 수치형 데이터 값을 가지는 변수명이 입력되면 바이올린 플롯은 세로로 그려진다. 수치형 변수들에 대해서만 바이올린 플롯을 작성할 경우 사용한다."
      ]
    },
    {
      "cell_type": "code",
      "execution_count": null,
      "id": "fa82d599",
      "metadata": {
        "id": "fa82d599"
      },
      "outputs": [],
      "source": [
        "## type your code ##\n",
        "\n",
        "plt.show()"
      ]
    },
    {
      "cell_type": "markdown",
      "id": "f641236b",
      "metadata": {
        "id": "f641236b"
      },
      "source": [
        "## 연습문제 3-1\n",
        "\n",
        "우리가 사용할 dataset은 seaborn에서 제공하는 tips dataset이다. tips dataset에서 우리는 요일(day)별 총 계산 요금(total_bill)의 분포가 궁금하여 요일별 boxplot을 그려보고자 한다. 아래의 과정에 따라 tips dataset에서 boxplot을 그려보자.\n",
        "\n",
        "조건은 다음과 같다.\n",
        "- title은 \"요일별 팁 비용 boxplot\"이다.\n",
        "- x축 tick은 목요일, 금요일, 토요일, 일요일로 라벨링한다.\n",
        "- x축 라벨은 \"요일\"이다.\n",
        "- y축 라벨은 \"총 계산 요금\"이다.\n",
        "- boxplot에서 이상치 점의 사이즈는 2로 설정한다."
      ]
    },
    {
      "cell_type": "code",
      "execution_count": null,
      "id": "93765bf3",
      "metadata": {
        "id": "93765bf3"
      },
      "outputs": [],
      "source": [
        "# loading dataset\n",
        "# 결과로 출력되는 5개의 행은 tips dataset에서 상위 5개 데이터를 추출한 것이다.\n",
        "# 이를 통해 tips dataset이 어떻게 구성되어 있는지 알 수 있다.\n",
        "# 우리가 관심있는 column은 total_bill, day 이다.\n",
        "tips = sns.load_dataset('tips')\n",
        "\n",
        "tips.head()"
      ]
    },
    {
      "cell_type": "code",
      "execution_count": null,
      "id": "b9e05ee4",
      "metadata": {
        "id": "b9e05ee4"
      },
      "outputs": [],
      "source": [
        "## type your code ##\n",
        "plt.title(# type #) # 타이틀 입력\n",
        "plt.xlabel(# type #) # x label 입력\n",
        "plt.ylabel(# type #) # y label 입력\n",
        "\n",
        "ax = sns.boxplot(# type #) # box plot 그리기\n",
        "ax.set_xticklabels() # x tick label 설정\n",
        "\n",
        "plt.show();"
      ]
    },
    {
      "cell_type": "markdown",
      "id": "515a17d0",
      "metadata": {
        "id": "515a17d0"
      },
      "source": [
        "## 연습문제 3-2\n",
        "\n",
        "이번에 사용할 dataset도 seaborn에서 제공하는 tips dataset이다. tips dataset에서 우리는 식사 인원(size)과 흡연 여부(smoker)에 따른 팁(tip)의 분포가 궁금하여 violinplot을 그려보고자 한다. 아래의 과정에 따라 tips dataset에서 violinplot을 그려보자.\n",
        "\n",
        "조건은 다음과 같다.\n",
        "- title은 \"식사 인원, 흡연 여부에 따른 tip 요금 violinplot\"이다.\n",
        "- violinplot에서 x를 tip, y를 size로 하고, 가로 방향으로 violinplot을 돌려서 그린다.\n",
        "- violinplot에서 각 데이터 포인트를 \"점\"으로 찍을 수 있도록 옵션을 조정한다.\n",
        "- x축 라벨은 \"팁 비용\"이다.\n",
        "- y축 라벨은 \"식사 인원 수\"이다.\n"
      ]
    },
    {
      "cell_type": "code",
      "execution_count": null,
      "id": "665e8c96",
      "metadata": {
        "id": "665e8c96"
      },
      "outputs": [],
      "source": [
        "# load datasets\n",
        "tips = sns.load_dataset('tips')\n",
        "\n",
        "plt.figure(figsize=(14, 10)) # figsize 조정 (그대로 두시면 됩니다!)\n",
        "\n",
        "## type your code ##\n",
        "# title, xlabel, ylabel 설정 #\n",
        "\n",
        "# violin plot 그리기 #\n",
        "\n",
        "plt.show();"
      ]
    },
    {
      "cell_type": "markdown",
      "id": "9e7f20ee",
      "metadata": {
        "id": "9e7f20ee"
      },
      "source": [
        "# Plotly"
      ]
    },
    {
      "cell_type": "markdown",
      "id": "bcc9df4b",
      "metadata": {
        "id": "bcc9df4b"
      },
      "source": [
        "Plotly란?\n",
        "\n",
        "- interactive한 표현을 제공하는 파이썬 그래픽 라이브러리\n",
        "- JavaScript로 구현된 plotly.js 를 기반으로 파이썬에서 생성한 데이터 시각화 객체를 Javascript로 생성해주는 패키지\n",
        "- 사용자의 반응에 따른 동적 인터랙티브 데이터 시각화가 가능\n",
        "- plotly 로 표현시, 사용자가 직접 데이터의 확인이 가능하고, 줌인, 줌아웃 등의 동작을 비교적 쉽게 구현 가능\n",
        "- 지원하는 파이썬의 그래픽 라이브러리를 참고하려면, 아래 링크를 참고\n",
        "    https://plotly.com/python/"
      ]
    },
    {
      "cell_type": "markdown",
      "id": "c95daa81",
      "metadata": {
        "id": "c95daa81"
      },
      "source": [
        "# Plotly 설치 및 불러오기"
      ]
    },
    {
      "cell_type": "code",
      "execution_count": null,
      "id": "943057e5",
      "metadata": {
        "id": "943057e5"
      },
      "outputs": [],
      "source": [
        "!pip3 install plotly"
      ]
    },
    {
      "cell_type": "code",
      "execution_count": null,
      "id": "bb06695f",
      "metadata": {
        "id": "bb06695f"
      },
      "outputs": [],
      "source": [
        "# 버전 확인하기\n",
        "import plotly\n",
        "print('Plotly version...', plotly.__version__)"
      ]
    },
    {
      "cell_type": "code",
      "execution_count": null,
      "id": "9cd34092",
      "metadata": {
        "id": "9cd34092"
      },
      "outputs": [],
      "source": [
        "# graph_objects 패키지를  go 로 불러옴\n",
        "import plotly.graph_objects as go\n",
        "\n",
        "# express 패키지를  px로 불러옴\n",
        "import plotly.express as px"
      ]
    },
    {
      "cell_type": "markdown",
      "id": "ba6722f7",
      "metadata": {
        "id": "ba6722f7"
      },
      "source": [
        "# Plotly 기초\n",
        "\n",
        "- graph_objects 모듈을 활용\n",
        "    \n",
        "    - Figure는 Plotly 작업의 기본 단위.\n",
        "    - Figure는 go.Figure() 함수를 통해 생성이 가능. go.Figure 힘수의 구조는 data와 layout 총 2개를 input으로 받는 구조.\n",
        "    \n",
        "        - data는 일명 \"Trace\" 를 Python List 형태로 받는데, Trace는 그리고자 하는 그래프의 타입(ex. Bar, Scatter, Line, Box..)과 그 그래프에 시각화 하고자 하는 Raw 데이터를 품고있는 단위.\n",
        "    \n",
        "        - layout은 그래프의 data와는 무관하고 그외 모든 부분을 편집 및 가공하는 부분. Title, legend, Colors, Hover-label, Axes, Shape 등 그래프 등 시각화를 높히기 위한 다양한 도구들은 모두 layout을 통해 지정.\n",
        "\n",
        "\n",
        "- express 모듈을 활용\n",
        "    \n",
        "    - 그래프를 이미 제작되어있는 템플릿으로 빠르게 제작하는 방법으로 매우 짧은 코드만으로 양질의 그래프를 제작할수있는 high-level 모듈."
      ]
    },
    {
      "cell_type": "markdown",
      "id": "1ba44370",
      "metadata": {
        "id": "1ba44370"
      },
      "source": [
        "express는 사용자가 빠르게 데이터 분석을 진행할때 활용을 추천.\n",
        "</br>\n",
        "graph_objects 는 논문, 발표자료와 같이 그래프 visualization에 중점을 두었을 경우 활용을 추천.\n",
        "</br>\n",
        "\n",
        "![express_graphobjects.png](attachment:express_graphobjects.png)"
      ]
    },
    {
      "cell_type": "code",
      "execution_count": null,
      "id": "b197ee12",
      "metadata": {
        "id": "b197ee12"
      },
      "outputs": [],
      "source": [
        "## type your code ##\n",
        "# go.Figure() 함수를 활용하여 기본 그래프를 생성\n",
        "\n",
        "fig.show()"
      ]
    },
    {
      "cell_type": "code",
      "execution_count": null,
      "id": "9ac02415",
      "metadata": {
        "id": "9ac02415"
      },
      "outputs": [],
      "source": [
        "## type your code ##\n",
        "# px.bar() 함수를 활용해서 bar chart 생성과 동시에 Data, Layout 값 입력\n",
        "\n",
        "fig.show()"
      ]
    },
    {
      "cell_type": "markdown",
      "id": "fddc5aa1",
      "metadata": {
        "id": "fddc5aa1"
      },
      "source": [
        "# Basic Charts"
      ]
    },
    {
      "cell_type": "markdown",
      "id": "b3a584bf",
      "metadata": {
        "id": "b3a584bf"
      },
      "source": [
        "## 산점도\n",
        "Scattor Plot(산점도)는 두 변수의 상관관계를 점으로 표현한 그래프이다.\n",
        "\n",
        "산점도를 작성하려면 **scatter** 메소드를 주로 **scatter(*x, y, data_frame=None, color=None, symbol=None, hover_name=None, trendline=None*)** 형식으로 사용하면 된다.\n",
        "- ***x*** 와 ***y*** 는 입력되는 데이터 값이다.\n",
        "- ***data_frame*** 은 입력되는 dataframe이다.\n",
        "- ***color*** 는 색으로 구분하고 싶은 데이터 컬럼명이다.  \n",
        "- ***symbol*** 는 점 스타일을 다르게 반영하고 싶은 데이터 컬럼명이다.\n",
        "- ***hover_name*** 은 tooltip에 볼드체로 이름으로 표시할 데이터 컬럼명이다.\n",
        "- ***trendline*** 는 추세선을 삽입할 수 있는 옵션이다.\n",
        "    - 해당 기능을 사용하기 위해서는 statsmodels 패키지를 추가 설치해야 한다.\n",
        "        ```python\n",
        "            !pip install statsmodels\n",
        "        ```\n",
        "    -  trendline = {\"ols\", \"lowess\", \"rolling\", \"ewm\", \"expanding\" } 추세선의 종류를 선택할 수 있다.\n",
        "        - ols : ordinary least square의 약자로 최소자승법으로 회귀 모델\n",
        "        - lowess : locally weighted scatterplot smoothing\n",
        "        - rolling : 기본 이동 평균선\n",
        "        - expanding : Cumulative 이동 평균선\n",
        "        - ewm : exponentially weighted 이동평균선"
      ]
    },
    {
      "cell_type": "code",
      "execution_count": null,
      "id": "95308440",
      "metadata": {
        "id": "95308440"
      },
      "outputs": [],
      "source": [
        "## type your code ##\n",
        "\n",
        "fig.show()"
      ]
    },
    {
      "cell_type": "code",
      "execution_count": null,
      "id": "97f44311",
      "metadata": {
        "id": "97f44311"
      },
      "outputs": [],
      "source": [
        "df = sns.load_dataset(\"iris\")\n",
        "\n",
        "## type your code ##\n",
        "\n",
        "fig.show()"
      ]
    },
    {
      "cell_type": "markdown",
      "id": "5db0cdf8",
      "metadata": {
        "id": "5db0cdf8"
      },
      "source": [
        "## 버블 차트 (Bubble Charts)\n",
        "\n",
        "버블 차트는 marker의 사이즈를 이용해 3차원의 데이터를 표현할 수 있는 산점도이다. 즉, 산점도의 특수한 케이스로 이해하면 된다.\n",
        "\n",
        "버블 차트를 작성하려면 **scatter** 메소드를 주로 **scatter(*x, y, data_frame=None, size=None*)** 형식으로 사용하면 된다.\n",
        "\n",
        "- ***x***, ***y***, ***data_frame***은 위의 산점도에서 기술했던 것과 같은 항목이다.\n",
        "- ***size*** 는 점 크기를 달리 할 기준이 되는 데이터 컬럼명이다."
      ]
    },
    {
      "cell_type": "code",
      "execution_count": null,
      "id": "5f631407",
      "metadata": {
        "id": "5f631407"
      },
      "outputs": [],
      "source": [
        "# make dataframe\n",
        "df = pd.DataFrame(\n",
        "    [\n",
        "        [1, 10, 400],\n",
        "        [2, 11, 200],\n",
        "        [3, 12, 800],\n",
        "        [4, 13, 2000]\n",
        "    ],\n",
        "    columns=[\"x\", \"y\", \"population\"]\n",
        ")\n",
        "\n",
        "df.head()"
      ]
    },
    {
      "cell_type": "code",
      "execution_count": null,
      "id": "bf7cd544",
      "metadata": {
        "id": "bf7cd544"
      },
      "outputs": [],
      "source": [
        "## type your code ##\n",
        "\n",
        "fig.show()"
      ]
    },
    {
      "cell_type": "markdown",
      "id": "20357edf",
      "metadata": {
        "id": "20357edf"
      },
      "source": [
        "## 간트차트 (Gantt Charts)\n",
        "\n",
        "Gantt Chart 시간 경과에 따른 프로젝트 계획을 시각화하는 방법으로 어떤 작업이 언제, 누구에 의해 완료될 예정인지 보여준다.\n",
        "\n",
        "간트 차트를 작성하려면 **timeline** 메소드를 주로 **timeline(*data_frame, x_start, x_end, y, color=None*)** 형식으로 사용하면 된다.\n",
        "\n",
        "- ***data_frame*** 은 입력되는 dataframe이다.\n",
        "- ***x_start*** 는 일정 시작 컬럼, ***x_end*** 는 일정 끝 컬럼이다.\n",
        "- ***y*** 는 y축에 들어갈 범주형 데이터이다.\n",
        "- ***color*** 는 색으로 구분하고 싶은 범주형 데이터 컬럼명이다. 주로 프로젝트별 담당자를 구분할 때 사용한다."
      ]
    },
    {
      "cell_type": "code",
      "execution_count": null,
      "id": "a55de1f2",
      "metadata": {
        "id": "a55de1f2"
      },
      "outputs": [],
      "source": [
        "# 데이터셋 만들기\n",
        "df = pd.DataFrame([\n",
        "    dict(Task=\"Job A\", Start='2009-01-01', Finish='2009-02-28', Resource=\"Alex\"),\n",
        "    dict(Task=\"Job B\", Start='2009-03-05', Finish='2009-04-15', Resource=\"Alex\"),\n",
        "    dict(Task=\"Job C\", Start='2009-02-20', Finish='2009-05-30', Resource=\"Max\")\n",
        "])\n",
        "\n",
        "df.head()"
      ]
    },
    {
      "cell_type": "code",
      "execution_count": null,
      "id": "f8f3f4bc",
      "metadata": {
        "id": "f8f3f4bc"
      },
      "outputs": [],
      "source": [
        "## type your code ##\n",
        "\n",
        "# 위에서부터 시작하게 Y축 역방향으로 설정\n",
        "fig.update_yaxes(autorange=\"reversed\")\n",
        "fig.show()"
      ]
    },
    {
      "cell_type": "markdown",
      "id": "ce277efd",
      "metadata": {
        "id": "ce277efd"
      },
      "source": [
        "## 연습문제 4-1\n",
        "\n",
        "이번에 사용할 dataset은 plotly에서 제공하는 gapminder dataset이다. gapminder dataset에서 1972년 데이터의 1인당 GDP(gdpPercap)와 기대수명(lifeExp) 사이의 관계가 궁금하여, 이 둘을 축으로 하는 산점도를 그려보고자 한다. 아래의 과정에 따라 gapminder dataset에서 산점도를 그려보자.\n",
        "\n",
        "조건은 다음과 같다.\n",
        "- x축은 1인당 GDP, y축은 기대수명으로 한다.\n",
        "- 연도에 따라 색상을 달리하여 산점도를 그린다.\n",
        "- 추세선은 ols로 삽입한다."
      ]
    },
    {
      "cell_type": "code",
      "execution_count": null,
      "id": "25d6d46d",
      "metadata": {
        "id": "25d6d46d"
      },
      "outputs": [],
      "source": [
        "# loading dataset\n",
        "# 1972년 데이터를 추출한다.\n",
        "# 결과로 출력되는 5개의 행은 gapminder dataset에서 상위 5개 데이터를 추출한 것이다.\n",
        "# 이를 통해 gapminder dataset이 어떻게 구성되어 있는지 알 수 있다.\n",
        "# 우리가 관심있는 column은 lifeExp, year, gdpPercap 이다.\n",
        "gapminder = px.data.gapminder()\n",
        "gapminder['year'] = gapminder['year'].astype(str)\n",
        "\n",
        "gapminder.head()"
      ]
    },
    {
      "cell_type": "code",
      "execution_count": null,
      "id": "18069ff3",
      "metadata": {
        "id": "18069ff3"
      },
      "outputs": [],
      "source": [
        "## type your code ##\n",
        "fig = px.scatter(# type #) # 산점도 그리기\n",
        "\n",
        "fig.show()"
      ]
    },
    {
      "cell_type": "markdown",
      "id": "9820800a",
      "metadata": {
        "id": "9820800a"
      },
      "source": [
        "## 연습문제 4-2\n",
        "\n",
        "이번에 사용할 dataset은 plotly에서 제공하는 gapminder dataset이다. gapminder dataset에서 우리는 2007년 데이터셋에 대해, 1인당 GDP(gdpPercap)와 기대수명(lifeExp)를 축으로 하고, 각 국가의 인구 수(pop)를 버블의 크기로 하는 버블 차트를 그려보고자 한다. 아래의 과정에 따라 gapminder dataset에서 버블 차트를 그려보자.\n",
        "\n",
        "조건은 다음과 같다.\n",
        "- x축은 1인당 GDP, y축은 기대수명으로 한다.\n",
        "- 버블의 크기는 인구수에 따라 달리 한다.\n",
        "- 대륙 (continent)에 따라 버블의 색상(color)를 달리 한다.\n",
        "- size_max 옵션은 60으로 설정한다.\n",
        "- 깔끔한 결과를 위하여 log_x 옵션을 True로 설정한다.\n",
        "- tooltip에 각 데이터 포인트의 이름을 표시하기 위하여, 나라명(country)으로 설정한다."
      ]
    },
    {
      "cell_type": "code",
      "execution_count": null,
      "id": "5e92dead",
      "metadata": {
        "id": "5e92dead"
      },
      "outputs": [],
      "source": [
        "# loading dataset\n",
        "# 데이터셋에서 연도가 2007년인 것만 추출하였다.\n",
        "# 결과로 출력되는 5개의 행은 gapminder dataset에서 상위 5개 데이터를 추출한 것이다.\n",
        "# 이를 통해 gapminder dataset이 어떻게 구성되어 있는지 알 수 있다.\n",
        "# 우리가 관심있는 column은 continent, lifeExp, pop, gdpPercap 이다.\n",
        "gapminder = px.data.gapminder()\n",
        "\n",
        "df_2007 = gapminder[gapminder['year']==2007]\n",
        "df_2007.head()"
      ]
    },
    {
      "cell_type": "code",
      "execution_count": null,
      "id": "eae76936",
      "metadata": {
        "id": "eae76936"
      },
      "outputs": [],
      "source": [
        "## type your code ##\n",
        "fig = px.scatter(# type #) # 버블 차트 그리기\n",
        "\n",
        "fig.show()"
      ]
    },
    {
      "cell_type": "markdown",
      "id": "854b88d0",
      "metadata": {
        "id": "854b88d0"
      },
      "source": [
        "# Scientific Charts"
      ]
    },
    {
      "cell_type": "markdown",
      "id": "96dfd1cb",
      "metadata": {
        "id": "96dfd1cb"
      },
      "source": [
        "## 히트맵 (Heatmap)\n",
        "\n",
        "Heatmaps 은 열을 뜻하는 히트(heat)와 지도를 뜻하는 맵(map)을 결합시킨 단어로, 2차원 평면 위애 색을 활용하여 다양한 정보를 표현하는 방법이다.\n",
        "\n",
        "히트맵을 작성하려면 **imshow** 메소드를 주로 **imshow(*data, labels=None, x=None, y=None, text_auto=False*)** 형식으로 사용하면 된다.\n",
        "\n",
        "- ***data*** 은 입력되는 dataframe이다.\n",
        "- ***labels*** 는 x축 라벨, y축 라벨에 들어갈 문구를 선택할 수 있다.\n",
        "- ***x*** 는 x축 axis에 들어갈 값, ***y*** 는 y축 axis에 들어갈 값이다.\n",
        "- ***text_auto*** 는 값을 표시할지 선택하는 옵션이다. 기본값은 False이고, True로 설정하면 각 element의 수치를 히트맵에 표시할 수 있다."
      ]
    },
    {
      "cell_type": "code",
      "execution_count": null,
      "id": "c9efa7ff",
      "metadata": {
        "id": "c9efa7ff"
      },
      "outputs": [],
      "source": [
        "## type your code ##\n",
        "\n",
        "fig.show()"
      ]
    },
    {
      "cell_type": "code",
      "execution_count": null,
      "id": "87f61988",
      "metadata": {
        "id": "87f61988"
      },
      "outputs": [],
      "source": [
        "data=[[1, 25, 30, 50, 1], [20, 1, 60, 80, 30], [30, 60, 1, 5, 20]]\n",
        "\n",
        "## type your code ##\n",
        "\n",
        "fig.show()"
      ]
    },
    {
      "cell_type": "markdown",
      "id": "c484a0eb",
      "metadata": {
        "id": "c484a0eb"
      },
      "source": [
        "## 레이더 차트 (Radar Chart)\n",
        "\n",
        "Radar Chart는 Spider Plot 또는 Star Plot 이라고도 불리며 한국말로는 방사형 차트이다. 축에 매핑된 3개 이상의 정량적 변수에 대한 다변량 데이터를 표시한다. 해당 제품, 서비스 또는 스포츠 선수 능력치와 같은 유사점 차이점 및 이상값을 한눈에 파악이 쉽다.\n",
        "\n",
        "레이더 차트를 작성하려면 **line_polar** 메소드를 주로 **line_polar(*data_frame, r=None, theta=None, color=None, line_close=False*)** 형식으로 사용하면 된다.\n",
        "\n",
        "- ***data_frame*** 은 입력되는 dataframe이다.\n",
        "- ***r*** 은 레이더 차트에서 각 row의 크기를 결정할 수치형 컬럼명, ***theta*** 는 레이더 차트에서 각 row의 이름을 결정할 범주형 컬럼명이다.\n",
        "- ***color*** 는 카테고리컬 데이터 별 Radar 그래프 생성을 하는 컬럼명이다.\n",
        "- ***line_close*** 는 레이더 차트의 선을 닫을지 결정하는 옵션으로, 기본값은 False이다."
      ]
    },
    {
      "cell_type": "code",
      "execution_count": null,
      "id": "71b928c6",
      "metadata": {
        "id": "71b928c6"
      },
      "outputs": [],
      "source": [
        "# 데이터 생성\n",
        "df = pd.DataFrame(dict(\n",
        "    r=[1, 5, 2, 2, 3],\n",
        "    theta=['파워 (장타력)','스피드 (주루)','컨택트 (타격 정확도)',\n",
        "           '순발력 & 핸들링 (수비)', '어깨 (송구 능력)']))\n",
        "\n",
        "df"
      ]
    },
    {
      "cell_type": "code",
      "execution_count": null,
      "id": "afe806dd",
      "metadata": {
        "id": "afe806dd"
      },
      "outputs": [],
      "source": [
        "## type your code ##\n",
        "\n",
        "fig.show()"
      ]
    },
    {
      "cell_type": "code",
      "execution_count": null,
      "id": "25b86412",
      "metadata": {
        "id": "25b86412"
      },
      "outputs": [],
      "source": [
        "# 데이터 생성\n",
        "df = pd.DataFrame(dict(\n",
        "    r=list(np.random.choice(np.arange(1, 6), (20))),\n",
        "    theta=['파워 (장타력)','스피드 (주루)','컨택트 (타격 정확도)',\n",
        "           '순발력 & 핸들링 (수비)', '어깨 (송구 능력)'] * 4,\n",
        "    name=[f\"player_{i//5+1}\" for i in range(20)])\n",
        ")\n",
        "\n",
        "df"
      ]
    },
    {
      "cell_type": "code",
      "execution_count": null,
      "id": "759ed6e2",
      "metadata": {
        "id": "759ed6e2"
      },
      "outputs": [],
      "source": [
        "## type your code ##\n",
        "\n",
        "fig.show()"
      ]
    },
    {
      "cell_type": "markdown",
      "id": "6e5cdabc",
      "metadata": {
        "id": "6e5cdabc"
      },
      "source": [
        "## 연습문제 5-1\n",
        "\n",
        "이번에 사용할 dataset은 plotly에서 제공하는 medal_wide dataset이다. medal_wide dataset은 국가별 금메달, 은메달, 동메달 수를 가지고 있는 데이터인데, 해당 데이터로 히트맵을 그려보고자 한다. 아래의 과정에 따라 medal_wide dataset에서 히트맵을 그려보자.\n",
        "\n",
        "조건은 다음과 같다.\n",
        "- x축 라벨은 \"국가\", y축 라벨은 \"메달 수\"로 설정한다.\n",
        "- x의 각 axis에는 세 국가 (South Korea, China, Canada), y의 각 axis에는 세 메달 종류 (gold, silver, bronze) 로 설정한다.\n",
        "- 각 value가 히트맵 안에 보이도록 옵션을 조정한다."
      ]
    },
    {
      "cell_type": "code",
      "execution_count": null,
      "id": "7cdd1c19",
      "metadata": {
        "id": "7cdd1c19"
      },
      "outputs": [],
      "source": [
        "# loading dataset\n",
        "# 출력 결과로 medal_wide dataset이 어떻게 구성되어 있는지 알 수 있다.\n",
        "df = px.data.medals_wide(indexed=True)\n",
        "\n",
        "df"
      ]
    },
    {
      "cell_type": "code",
      "execution_count": null,
      "id": "278ae601",
      "metadata": {
        "id": "278ae601"
      },
      "outputs": [],
      "source": [
        "## type your code ##\n",
        "fig = px.imshow(# type #) # 히트맵 그리기\n",
        "\n",
        "fig.show()"
      ]
    },
    {
      "cell_type": "markdown",
      "id": "cb17cac7",
      "metadata": {
        "id": "cb17cac7"
      },
      "source": [
        "## 연습문제 5-2\n",
        "\n",
        "이번에 사용할 dataset 역시 plotly에서 제공하는 medal_wide dataset이다. 해당 데이터를 적절히 전처리하여 새로운 데이터를 생성하고, 국가별 금메달 수, 은메달 수, 동메달 수를 레이더 차트로 그려보고자 한다. 아래의 과정에 따라 medal_wide dataset에서 레이더 차트를 그려보자.\n",
        "\n",
        "조건은 다음과 같다.\n",
        "- 레이더 차트의 크기는 매달 개수 (medal_cnt)로 설정한다.\n",
        "- 레이더 차트의 라벨은 메달 타입 (medal_type)으로 설정한다.\n",
        "- 국가별 레이더 차트를 그리기 위하여, 국가에 따라 레이더 차트의 색상을 달리 한다.\n",
        "- 레이더 차트를 이어주는 옵션을 사용한다."
      ]
    },
    {
      "cell_type": "code",
      "execution_count": null,
      "id": "d34fd456",
      "metadata": {
        "id": "d34fd456"
      },
      "outputs": [],
      "source": [
        "# loading dataset\n",
        "# 기존 medal_wide dataset을 flatten한 데이터이다.\n",
        "df = px.data.medals_wide(indexed=True)\n",
        "\n",
        "df_flatten = pd.DataFrame(dict(\n",
        "    country = [list(df.index)[i//3] for i in range(9)],\n",
        "    medal_type= list(df.columns) * len(df),\n",
        "    medal_cnt=df.values.flatten())\n",
        ")\n",
        "\n",
        "df_flatten"
      ]
    },
    {
      "cell_type": "code",
      "execution_count": null,
      "id": "9c2e3daa",
      "metadata": {
        "id": "9c2e3daa"
      },
      "outputs": [],
      "source": [
        "## type your code ##\n",
        "fig = px.line_polar(# type #) # 레이더 차트 그리기\n",
        "\n",
        "fig.show()"
      ]
    },
    {
      "cell_type": "markdown",
      "id": "7b1ee6bc",
      "metadata": {
        "id": "7b1ee6bc"
      },
      "source": [
        "# Financial Charts"
      ]
    },
    {
      "cell_type": "markdown",
      "id": "a698068b",
      "metadata": {
        "id": "a698068b"
      },
      "source": [
        "## 캔들스틱 차트 (Candlestick Chart)\n",
        "\n",
        "Candlestick chart는 캔들스틱차트 또는 봉차트 라고 불리우며 주식을 비롯한 유가증권과 파생상품, 환율의 가젹 움직임을 보여주는 금융 차트이다.\n",
        "\n",
        "캔들스틱 차트는 plotly의 express에서는 지원하지 않는다. 따라서 해당 차트는 예외적으로 plotly의 graph_objects를 이용하여 그릴 것이다.\n",
        "\n",
        "캔들스틱 차트를 작성하려면 **graph_objects.Candlestick** 메소드를 주로 **graph_objects.Candlestick(*x, open, high, low, close*)** 형식으로 사용하면 된다.\n",
        "\n",
        "- ***x*** 는 날짜 리스트이다.\n",
        "- ***open*** 는 시가 리스트이다.\n",
        "- ***high*** 는 고가 리스트이다.\n",
        "- ***low*** 는 저가 리스트이다.\n",
        "- ***close*** 는 종가 리스트이다."
      ]
    },
    {
      "cell_type": "code",
      "execution_count": null,
      "id": "458f0501",
      "metadata": {
        "id": "458f0501"
      },
      "outputs": [],
      "source": [
        "# 예시 데이터\n",
        "data = [\n",
        "    {'date': '2022-01-01', 'open': 100, 'high': 150, 'low': 80, 'close': 120},\n",
        "    {'date': '2022-01-02', 'open': 110, 'high': 160, 'low': 90, 'close': 130},\n",
        "    {'date': '2022-01-03', 'open': 120, 'high': 170, 'low': 100, 'close': 140},\n",
        "    {'date': '2022-01-04', 'open': 130, 'high': 170, 'low': 110, 'close': 140},\n",
        "    {'date': '2022-01-05', 'open': 140, 'high': 160, 'low': 120, 'close': 140},\n",
        "    {'date': '2022-01-06', 'open': 120, 'high': 170, 'low': 100, 'close': 130},\n",
        "    {'date': '2022-01-07', 'open': 160, 'high': 180, 'low': 140, 'close': 150},\n",
        "    {'date': '2022-01-08', 'open': 150, 'high': 190, 'low': 150, 'close': 160},\n",
        "    {'date': '2022-01-09', 'open': 130, 'high': 160, 'low': 110, 'close': 130},\n",
        "    {'date': '2022-01-10', 'open': 150, 'high': 190, 'low': 130, 'close': 140},\n",
        "\n",
        "]\n",
        "\n",
        "df = pd.DataFrame(data)\n",
        "\n",
        "df"
      ]
    },
    {
      "cell_type": "code",
      "execution_count": null,
      "id": "386ea4bb",
      "metadata": {
        "id": "386ea4bb"
      },
      "outputs": [],
      "source": [
        "## type your code ##\n",
        "\n",
        "fig.update_layout(xaxis_rangeslider_visible=False)\n",
        "fig.show()"
      ]
    },
    {
      "cell_type": "markdown",
      "id": "f05b1e80",
      "metadata": {
        "id": "f05b1e80"
      },
      "source": [
        "## 퍼널 차트 (Funnel Chart)\n",
        "\n",
        "퍼널 차트는 비즈니스에서 각 단계의 고객 수 혹은 이탈율 등을 파악하기 위하여 그리는 차트이다. 비즈니스에서 각 단계 중 어떤 프로세스에서 병목 현상이 생기는지 파악하는 것은 중요하다. 그것을 도와주는 것이 퍼널 차트이다.\n",
        "\n",
        "퍼널 차트를 작성하려면 **funnel** 메소드를 주로 **funnel(*data, x, y, color*)** 형식으로 사용하면 된다.\n",
        "\n",
        "- ***data*** 는 퍼널 차트를 그릴 데이터이다.\n",
        "- ***x*** 는 각 퍼널의 크기를 결정할 수치형 컬럼명이다.\n",
        "- ***y*** 는 각 퍼널의 이름을 결정할 범주형 컬럼명이다.\n",
        "- ***color*** 는 색상을 달리 하여 퍼널 차트를 그릴 기준이 되는 컬럼명이다."
      ]
    },
    {
      "cell_type": "code",
      "execution_count": null,
      "id": "49fca6b2",
      "metadata": {
        "id": "49fca6b2"
      },
      "outputs": [],
      "source": [
        "# make datasets\n",
        "stages = [\"Website visit\", \"Downloads\", \"Potential customers\", \"Requested price\", \"invoice sent\"]\n",
        "df_mtl = pd.DataFrame(dict(number=[39, 27.4, 20.6, 11, 3], stage=stages))\n",
        "df_mtl['office'] = 'Montreal'\n",
        "df_toronto = pd.DataFrame(dict(number=[52, 36, 18, 14, 5], stage=stages))\n",
        "df_toronto['office'] = 'Toronto'\n",
        "df = pd.concat([df_mtl, df_toronto], axis=0)\n",
        "\n",
        "df"
      ]
    },
    {
      "cell_type": "code",
      "execution_count": null,
      "id": "b7dfd353",
      "metadata": {
        "id": "b7dfd353"
      },
      "outputs": [],
      "source": [
        "## type your code ##\n",
        "\n",
        "fig.show()"
      ]
    },
    {
      "cell_type": "markdown",
      "id": "d68e0579",
      "metadata": {
        "id": "d68e0579"
      },
      "source": [
        "## 연습문제 6-1\n",
        "\n",
        "이번에 사용할 dataset은 plotly에서 제공하는 Apple의 2015년부터 2017년 까지의 주가 데이터이다. 해당 데이터는 애플의 시가, 종가, 고가, 저가 데이터를 모두 가지고 있다. 아래의 과정에 따라 캔들스틱 차트를 그려보자.\n",
        "\n",
        "조건은 다음과 같다.\n",
        "- 시가는 AAPL.Open, 고가는 AAPL.High, 저가는 AAPL.Low, 종가는 AAPL.Close이다.\n",
        "- 시각화의 편의를 위하여 다음 코드를 추가한다.\n",
        "```python\n",
        "fig.update_layout(xaxis_rangeslider_visible=False)\n",
        "```"
      ]
    },
    {
      "cell_type": "code",
      "execution_count": null,
      "id": "861845b3",
      "metadata": {
        "id": "861845b3"
      },
      "outputs": [],
      "source": [
        "df = pd.read_csv('https://raw.githubusercontent.com/plotly/datasets/master/finance-charts-apple.csv')\n",
        "df.head()"
      ]
    },
    {
      "cell_type": "code",
      "execution_count": null,
      "id": "4278747e",
      "metadata": {
        "id": "4278747e"
      },
      "outputs": [],
      "source": [
        "## type your code ##\n",
        "fig = go.Figure(data=[# type #]) # 캔들스틱 차트 그리기\n",
        "\n",
        "fig.show()"
      ]
    },
    {
      "cell_type": "markdown",
      "id": "c98d68fa",
      "metadata": {
        "id": "c98d68fa"
      },
      "source": [
        "## 연습문제 7\n",
        "\n",
        "이번 연습문제에서 사용할 데이터는 kaggle에서 제공하는 포켓몬 데이터셋이다.\n",
        "\n",
        "데이터의 컬럼에 대한 설명은 다음과 같다.\n",
        "- #: ID for each pokemon\n",
        "- Name: Name of each pokemon\n",
        "- Type 1: Each pokemon has a type, this determines weakness/resistance to attacks\n",
        "- Type 2: Some pokemon are dual type and have 2\n",
        "- Total: sum of all stats that come after this, a general guide to how strong a pokemon is\n",
        "- HP: hit points, or health, defines how much damage a pokemon can withstand before fainting\n",
        "- Attack: the base modifier for normal attacks (eg. Scratch, Punch)\n",
        "- Defense: the base damage resistance against normal attacks\n",
        "- SP Atk: special attack, the base modifier for special attacks (e.g. fire blast, bubble beam)\n",
        "- SP Def: the base damage resistance against special attacks\n",
        "- Speed: determines which pokemon attacks first each round\n",
        "\n",
        "\n",
        "다음 데이터를 이용하여, 이번 강의에서 학습한 여러 그래프를 그려보는 시간을 가질 것이다. 포켓몬 데이터셋을 이용하여 자유롭게 2가지 이상의 그래프를 그려보자. 강의에서 학습한 그래프도 괜찮고, 다른 그래프도 괜찮다."
      ]
    },
    {
      "cell_type": "code",
      "execution_count": null,
      "id": "62e4a9c7",
      "metadata": {
        "id": "62e4a9c7"
      },
      "outputs": [],
      "source": [
        "# loading datasets\n",
        "# 포켓몬 데이터셋이다.\n",
        "pokemon = pd.read_csv(\"Pokemon.csv\")\n",
        "pokemon.head()"
      ]
    },
    {
      "cell_type": "code",
      "execution_count": null,
      "id": "0a6807dd",
      "metadata": {
        "id": "0a6807dd"
      },
      "outputs": [],
      "source": [
        "# 그래프 1\n",
        "## type your code ##"
      ]
    },
    {
      "cell_type": "code",
      "execution_count": null,
      "id": "ac3acb30",
      "metadata": {
        "id": "ac3acb30"
      },
      "outputs": [],
      "source": [
        "# 그래프 2\n",
        "## type your code ##"
      ]
    },
    {
      "cell_type": "markdown",
      "id": "86b486e9",
      "metadata": {
        "id": "86b486e9"
      },
      "source": [
        "<img src='https://t3.ftcdn.net/jpg/02/92/36/76/360_F_292367633_TwzHFo2XLSSbcihgxESm2sKcQ0NlwrIG.jpg' alt=\"The end\" />"
      ]
    }
  ],
  "metadata": {
    "kernelspec": {
      "display_name": "Python 3 (ipykernel)",
      "language": "python",
      "name": "python3"
    },
    "language_info": {
      "codemirror_mode": {
        "name": "ipython",
        "version": 3
      },
      "file_extension": ".py",
      "mimetype": "text/x-python",
      "name": "python",
      "nbconvert_exporter": "python",
      "pygments_lexer": "ipython3",
      "version": "3.7.9"
    },
    "colab": {
      "provenance": []
    }
  },
  "nbformat": 4,
  "nbformat_minor": 5
}